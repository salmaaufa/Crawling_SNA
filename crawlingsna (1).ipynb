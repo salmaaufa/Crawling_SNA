{
  "nbformat": 4,
  "nbformat_minor": 0,
  "metadata": {
    "colab": {
      "provenance": []
    },
    "kernelspec": {
      "name": "ir",
      "display_name": "R"
    }
  },
  "cells": [
    {
      "cell_type": "code",
      "metadata": {
        "id": "qEVxjQTUg7O3",
        "outputId": "ec1dbfa8-0251-4d9e-c11e-a04849f9c318",
        "colab": {
          "base_uri": "https://localhost:8080/"
        }
      },
      "source": [
        "install.packages(\"httr\")"
      ],
      "execution_count": null,
      "outputs": [
        {
          "output_type": "stream",
          "text": [
            "Installing package into ‘/usr/local/lib/R/site-library’\n",
            "(as ‘lib’ is unspecified)\n",
            "\n"
          ],
          "name": "stderr"
        }
      ]
    },
    {
      "cell_type": "code",
      "metadata": {
        "id": "As-bwdcEhdtW",
        "outputId": "d57cceae-c102-4265-e473-7ab70da89b5c",
        "colab": {
          "base_uri": "https://localhost:8080/"
        }
      },
      "source": [
        "install.packages(\"twitteR\")"
      ],
      "execution_count": null,
      "outputs": [
        {
          "output_type": "stream",
          "text": [
            "Installing package into ‘/usr/local/lib/R/site-library’\n",
            "(as ‘lib’ is unspecified)\n",
            "\n",
            "also installing the dependencies ‘bit’, ‘bit64’, ‘rjson’\n",
            "\n",
            "\n"
          ],
          "name": "stderr"
        }
      ]
    },
    {
      "cell_type": "code",
      "metadata": {
        "id": "S7kwElQmhmGu"
      },
      "source": [
        "library(\"httr\")"
      ],
      "execution_count": null,
      "outputs": []
    },
    {
      "cell_type": "code",
      "metadata": {
        "id": "AQjYKO17hqz3"
      },
      "source": [
        "library(\"twitteR\")"
      ],
      "execution_count": null,
      "outputs": []
    },
    {
      "cell_type": "code",
      "metadata": {
        "id": "DT501gOHiKXV",
        "outputId": "66971df6-7dbb-4bd6-80b4-85cae1b3182b",
        "colab": {
          "base_uri": "https://localhost:8080/"
        }
      },
      "source": [
        "#setup_twitter_oauth(\"APIKey\",\"APISecretKey\", \"AccessToken\", \"AccessSecretToken\")\n",
        "setup_twitter_oauth('qIFQMxzv8xTRaT4nBMrEBRdMe','qzjNgaF2zjjNTfY9voHNpVFmA97SrwVb23t8mg0i0veP0R4ttx','1498891883010949122-KecPRlhJDqVlYpisIaeMbwowowtd5T','dINFvmpeaHdYRhGEOLqILwSUOk344WVhBif1l8rKKXjUE')"
      ],
      "execution_count": null,
      "outputs": [
        {
          "output_type": "stream",
          "text": [
            "[1] \"Using direct authentication\"\n"
          ],
          "name": "stdout"
        }
      ]
    },
    {
      "cell_type": "code",
      "metadata": {
        "id": "9U1qMp6IiqTt"
      },
      "source": [
        "tweets<- searchTwitter(\"#itaewon\",lang=\"en\", n=1000)"
      ],
      "execution_count": null,
      "outputs": []
    },
    {
      "cell_type": "code",
      "metadata": {
        "id": "dSpVtoC0iwwt"
      },
      "source": [
        "tweets<- twListToDF(tweets)"
      ],
      "execution_count": null,
      "outputs": []
    },
    {
      "cell_type": "code",
      "metadata": {
        "id": "5Ic5z2Lei2Ag"
      },
      "source": [
        "write.csv(tweets,\"itaewon.csv\", row.names = FALSE)"
      ],
      "execution_count": null,
      "outputs": []
    }
  ]
}